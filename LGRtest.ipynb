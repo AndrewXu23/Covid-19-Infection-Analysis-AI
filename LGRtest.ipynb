{
  "nbformat": 4,
  "nbformat_minor": 0,
  "metadata": {
    "colab": {
      "provenance": [],
      "collapsed_sections": [],
      "authorship_tag": "ABX9TyPNPOLMzkc4LqG3NF9xzxtN",
      "include_colab_link": true
    },
    "kernelspec": {
      "name": "python3",
      "display_name": "Python 3"
    },
    "language_info": {
      "name": "python"
    }
  },
  "cells": [
    {
      "cell_type": "markdown",
      "metadata": {
        "id": "view-in-github",
        "colab_type": "text"
      },
      "source": [
        "<a href=\"https://colab.research.google.com/github/AndrewXu23/DataAnalysisAI/blob/main/LGRtest.ipynb\" target=\"_parent\"><img src=\"https://colab.research.google.com/assets/colab-badge.svg\" alt=\"Open In Colab\"/></a>"
      ]
    },
    {
      "cell_type": "code",
      "execution_count": null,
      "metadata": {
        "id": "4zg6IDdbUXs-"
      },
      "outputs": [],
      "source": [
        "import matplotlib.pyplot as plt\n",
        "import numpy as np\n",
        "from sklearn.linear_model import LogisticRegression\n",
        "from sklearn.metrics import classification_report, confusion_matrix"
      ]
    },
    {
      "cell_type": "code",
      "source": [
        "import csv\n",
        "  \n",
        "x = []\n",
        "y = []\n",
        "  \n",
        "with open('Covid-19final.csv','r') as csvfile:\n",
        "    plots = csv.reader(csvfile, delimiter = ',')\n",
        "      \n",
        "    for row in plots:\n",
        "        x.append([row[3]])\n",
        "        y.append(row[-1])"
      ],
      "metadata": {
        "id": "vqqVaWVqUtdp"
      },
      "execution_count": null,
      "outputs": []
    },
    {
      "cell_type": "code",
      "source": [
        "model = LogisticRegression(solver='liblinear', random_state=0)"
      ],
      "metadata": {
        "id": "o_c5I9doYZzE"
      },
      "execution_count": null,
      "outputs": []
    },
    {
      "cell_type": "code",
      "source": [
        "model.fit(x, y)"
      ],
      "metadata": {
        "colab": {
          "base_uri": "https://localhost:8080/"
        },
        "id": "-oSbun_HYdx4",
        "outputId": "86a65876-b883-4fe1-9118-f75de3b81d06"
      },
      "execution_count": null,
      "outputs": [
        {
          "output_type": "execute_result",
          "data": {
            "text/plain": [
              "LogisticRegression(random_state=0, solver='liblinear')"
            ]
          },
          "metadata": {},
          "execution_count": 75
        }
      ]
    },
    {
      "cell_type": "code",
      "source": [
        "model = LogisticRegression(solver='liblinear', random_state=0).fit(x, y)"
      ],
      "metadata": {
        "id": "mptZq-miZ2Ic"
      },
      "execution_count": null,
      "outputs": []
    },
    {
      "cell_type": "code",
      "source": [
        "model.classes_"
      ],
      "metadata": {
        "colab": {
          "base_uri": "https://localhost:8080/"
        },
        "id": "FDPZZM16Z7Ya",
        "outputId": "6bebd4eb-7004-4a3d-f8a1-d61e9387ef8b"
      },
      "execution_count": null,
      "outputs": [
        {
          "output_type": "execute_result",
          "data": {
            "text/plain": [
              "array(['12', '30', '40', '50', '60', '70', '80', '90'], dtype='<U2')"
            ]
          },
          "metadata": {},
          "execution_count": 77
        }
      ]
    },
    {
      "cell_type": "code",
      "source": [
        "model.intercept_"
      ],
      "metadata": {
        "colab": {
          "base_uri": "https://localhost:8080/"
        },
        "id": "5L5zx94BZ_Jh",
        "outputId": "a268df85-618d-4d56-8e8e-48914da4dee3"
      },
      "execution_count": null,
      "outputs": [
        {
          "output_type": "execute_result",
          "data": {
            "text/plain": [
              "array([-1.51779548, -1.73338592, -1.84388461, -1.91551088, -1.9321296 ,\n",
              "       -1.94266358, -1.9409757 , -1.94036302])"
            ]
          },
          "metadata": {},
          "execution_count": 78
        }
      ]
    },
    {
      "cell_type": "code",
      "source": [
        "model.coef_"
      ],
      "metadata": {
        "colab": {
          "base_uri": "https://localhost:8080/"
        },
        "id": "CdoWq8mSaBTK",
        "outputId": "3cabbd3b-258f-4c1c-9777-5eb833bf474e"
      },
      "execution_count": null,
      "outputs": [
        {
          "output_type": "execute_result",
          "data": {
            "text/plain": [
              "array([[-7.88119718e-03],\n",
              "       [-1.49452464e-03],\n",
              "       [-3.70658103e-04],\n",
              "       [-4.27651017e-05],\n",
              "       [ 2.25897940e-06],\n",
              "       [ 9.37345209e-06],\n",
              "       [ 1.16218831e-05],\n",
              "       [ 1.18818528e-05]])"
            ]
          },
          "metadata": {},
          "execution_count": 79
        }
      ]
    },
    {
      "cell_type": "code",
      "source": [
        "model.predict_proba(x)"
      ],
      "metadata": {
        "colab": {
          "base_uri": "https://localhost:8080/"
        },
        "id": "VTIKCgiJaFMt",
        "outputId": "c8d3d20b-62e0-4528-b3e9-2b4b08c8edf0"
      },
      "execution_count": null,
      "outputs": [
        {
          "output_type": "stream",
          "name": "stderr",
          "text": [
            "/usr/local/lib/python3.7/dist-packages/sklearn/base.py:566: FutureWarning: Arrays of bytes/strings is being converted to decimal numbers if dtype='numeric'. This behavior is deprecated in 0.24 and will be removed in 1.1 (renaming of 0.26). Please convert your data to numeric values explicitly instead.\n",
            "  X = check_array(X, **check_params)\n"
          ]
        },
        {
          "output_type": "execute_result",
          "data": {
            "text/plain": [
              "array([[1.63752374e-01, 1.36763628e-01, 1.24410698e-01, ...,\n",
              "        1.14175865e-01, 1.14344529e-01, 1.14405805e-01],\n",
              "       [1.40115087e-01, 1.36529471e-01, 1.27681502e-01, ...,\n",
              "        1.18299087e-01, 1.18480591e-01, 1.18544862e-01],\n",
              "       [1.63752374e-01, 1.36763628e-01, 1.24410698e-01, ...,\n",
              "        1.14175865e-01, 1.14344529e-01, 1.14405805e-01],\n",
              "       ...,\n",
              "       [8.95728991e-05, 4.81440652e-02, 1.27650891e-01, ...,\n",
              "        1.65223025e-01, 1.65799828e-01, 1.65927104e-01],\n",
              "       [1.63752374e-01, 1.36763628e-01, 1.24410698e-01, ...,\n",
              "        1.14175865e-01, 1.14344529e-01, 1.14405805e-01],\n",
              "       [4.33981731e-02, 1.24977237e-01, 1.39836241e-01, ...,\n",
              "        1.37629463e-01, 1.37890171e-01, 1.37970688e-01]])"
            ]
          },
          "metadata": {},
          "execution_count": 80
        }
      ]
    },
    {
      "cell_type": "code",
      "source": [
        "model.predict(x)"
      ],
      "metadata": {
        "colab": {
          "base_uri": "https://localhost:8080/"
        },
        "id": "z8TcjzxjaH9c",
        "outputId": "ce28e19a-ff44-43f4-a84a-b4b5eef2b142"
      },
      "execution_count": null,
      "outputs": [
        {
          "output_type": "stream",
          "name": "stderr",
          "text": [
            "/usr/local/lib/python3.7/dist-packages/sklearn/base.py:566: FutureWarning: Arrays of bytes/strings is being converted to decimal numbers if dtype='numeric'. This behavior is deprecated in 0.24 and will be removed in 1.1 (renaming of 0.26). Please convert your data to numeric values explicitly instead.\n",
            "  X = check_array(X, **check_params)\n"
          ]
        },
        {
          "output_type": "execute_result",
          "data": {
            "text/plain": [
              "array(['12', '12', '12', ..., '90', '12', '40'], dtype='<U2')"
            ]
          },
          "metadata": {},
          "execution_count": 82
        }
      ]
    },
    {
      "cell_type": "code",
      "source": [
        "plt.scatter(y, x, color = 'g',s = 100)\n",
        "plt.xticks(rotation = 25)\n",
        "plt.xlabel('Ages')\n",
        "plt.ylabel('Death')\n",
        "plt.title('Infection Level Among Ages', fontsize = 20)\n",
        "\n",
        "plt.show()"
      ],
      "metadata": {
        "id": "ByvzFRcUb-JU",
        "colab": {
          "base_uri": "https://localhost:8080/",
          "height": 305
        },
        "outputId": "c2e72cfe-a670-4757-95a4-deb710ccb215"
      },
      "execution_count": null,
      "outputs": [
        {
          "output_type": "display_data",
          "data": {
            "text/plain": [
              "<Figure size 432x288 with 1 Axes>"
            ],
            "image/png": "[encoded data removed]"
          },
          "metadata": {
            "needs_background": "light"
          }
        }
      ]
    },
    {
      "cell_type": "code",
      "source": [
        "confusion_matrix(y, model.predict(x))"
      ],
      "metadata": {
        "colab": {
          "base_uri": "https://localhost:8080/"
        },
        "id": "vk9Bxq4Dilks",
        "outputId": "6970f02c-b485-4449-bc30-0a287b56e8fe"
      },
      "execution_count": null,
      "outputs": [
        {
          "output_type": "stream",
          "name": "stderr",
          "text": [
            "/usr/local/lib/python3.7/dist-packages/sklearn/base.py:566: FutureWarning: Arrays of bytes/strings is being converted to decimal numbers if dtype='numeric'. This behavior is deprecated in 0.24 and will be removed in 1.1 (renaming of 0.26). Please convert your data to numeric values explicitly instead.\n",
            "  X = check_array(X, **check_params)\n"
          ]
        },
        {
          "output_type": "execute_result",
          "data": {
            "text/plain": [
              "array([[333,  31,   2,   2,   0,   0,   0,   3],\n",
              "       [286,  42,  28,   7,   3,   0,   0,   5],\n",
              "       [252,  40,  33,  24,  16,   0,   0,   6],\n",
              "       [213,  45,  31,  18,  38,   0,   0,  26],\n",
              "       [182,  50,  28,  29,  17,   0,   0,  65],\n",
              "       [160,  58,  35,  22,  23,   0,   0,  73],\n",
              "       [179,  48,  30,  20,  20,   0,   0,  74],\n",
              "       [197,  39,  35,  11,  18,   0,   0,  71]])"
            ]
          },
          "metadata": {},
          "execution_count": 85
        }
      ]
    },
    {
      "cell_type": "code",
      "source": [
        "cm = confusion_matrix(y, model.predict(x))\n",
        "\n",
        "fig, ax = plt.subplots(figsize=(8, 8))\n",
        "ax.imshow(cm)\n",
        "ax.grid(False)\n",
        "ax.xaxis.set(ticks=(0, 1), ticklabels=('Predicted 0s', 'Predicted 1s'))\n",
        "ax.yaxis.set(ticks=(0, 1), ticklabels=('Actual 0s', 'Actual 1s'))\n",
        "ax.set_ylim(1.5, -0.5)\n",
        "for i in range(2):\n",
        "    for j in range(2):\n",
        "        ax.text(j, i, cm[i, j], ha='center', va='center', color='red')\n",
        "plt.show()"
      ],
      "metadata": {
        "colab": {
          "base_uri": "https://localhost:8080/",
          "height": 215
        },
        "id": "MbUIDvfIis77",
        "outputId": "3af16025-e6fc-446c-cd6d-6493e8e1d50b"
      },
      "execution_count": null,
      "outputs": [
        {
          "output_type": "stream",
          "name": "stderr",
          "text": [
            "/usr/local/lib/python3.7/dist-packages/sklearn/base.py:566: FutureWarning: Arrays of bytes/strings is being converted to decimal numbers if dtype='numeric'. This behavior is deprecated in 0.24 and will be removed in 1.1 (renaming of 0.26). Please convert your data to numeric values explicitly instead.\n",
            "  X = check_array(X, **check_params)\n"
          ]
        },
        {
          "output_type": "display_data",
          "data": {
            "text/plain": [
              "<Figure size 576x576 with 1 Axes>"
            ],
            "image/png": "[encoded data removed]"
          },
          "metadata": {
            "needs_background": "light"
          }
        }
      ]
    },
    {
      "cell_type": "code",
      "source": [
        "print(classification_report(y, model.predict(x)))"
      ],
      "metadata": {
        "colab": {
          "base_uri": "https://localhost:8080/"
        },
        "id": "zTiOZ5RPiyVn",
        "outputId": "d5018337-c5c2-4549-be40-9f8efe61bc1d"
      },
      "execution_count": null,
      "outputs": [
        {
          "output_type": "stream",
          "name": "stdout",
          "text": [
            "              precision    recall  f1-score   support\n",
            "\n",
            "          12       0.18      0.90      0.31       371\n",
            "          30       0.12      0.11      0.12       371\n",
            "          40       0.15      0.09      0.11       371\n",
            "          50       0.14      0.05      0.07       371\n",
            "          60       0.13      0.05      0.07       371\n",
            "          70       0.00      0.00      0.00       371\n",
            "          80       0.00      0.00      0.00       371\n",
            "          90       0.22      0.19      0.20       371\n",
            "\n",
            "    accuracy                           0.17      2968\n",
            "   macro avg       0.12      0.17      0.11      2968\n",
            "weighted avg       0.12      0.17      0.11      2968\n",
            "\n"
          ]
        },
        {
          "output_type": "stream",
          "name": "stderr",
          "text": [
            "/usr/local/lib/python3.7/dist-packages/sklearn/base.py:566: FutureWarning: Arrays of bytes/strings is being converted to decimal numbers if dtype='numeric'. This behavior is deprecated in 0.24 and will be removed in 1.1 (renaming of 0.26). Please convert your data to numeric values explicitly instead.\n",
            "  X = check_array(X, **check_params)\n",
            "/usr/local/lib/python3.7/dist-packages/sklearn/metrics/_classification.py:1318: UndefinedMetricWarning: Precision and F-score are ill-defined and being set to 0.0 in labels with no predicted samples. Use `zero_division` parameter to control this behavior.\n",
            "  _warn_prf(average, modifier, msg_start, len(result))\n",
            "/usr/local/lib/python3.7/dist-packages/sklearn/metrics/_classification.py:1318: UndefinedMetricWarning: Precision and F-score are ill-defined and being set to 0.0 in labels with no predicted samples. Use `zero_division` parameter to control this behavior.\n",
            "  _warn_prf(average, modifier, msg_start, len(result))\n",
            "/usr/local/lib/python3.7/dist-packages/sklearn/metrics/_classification.py:1318: UndefinedMetricWarning: Precision and F-score are ill-defined and being set to 0.0 in labels with no predicted samples. Use `zero_division` parameter to control this behavior.\n",
            "  _warn_prf(average, modifier, msg_start, len(result))\n"
          ]
        }
      ]
    },
    {
      "cell_type": "code",
      "source": [
        "model = LogisticRegression(solver='liblinear', C=10.0, random_state=0)\n",
        "model.fit(x, y)"
      ],
      "metadata": {
        "colab": {
          "base_uri": "https://localhost:8080/"
        },
        "id": "mZA7BLchjGHm",
        "outputId": "f147cbf2-f568-4091-9fd7-7ed61e099541"
      },
      "execution_count": null,
      "outputs": [
        {
          "output_type": "execute_result",
          "data": {
            "text/plain": [
              "LogisticRegression(C=10.0, random_state=0, solver='liblinear')"
            ]
          },
          "metadata": {},
          "execution_count": 88
        }
      ]
    }
  ]
}